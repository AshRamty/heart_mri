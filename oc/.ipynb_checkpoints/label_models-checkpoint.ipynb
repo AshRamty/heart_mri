{
 "cells": [
  {
   "cell_type": "code",
   "execution_count": 1,
   "metadata": {},
   "outputs": [],
   "source": [
    "import sys\n",
    "import os\n",
    "sys.path.append('../metal')\n",
    "sys.path.append('../heart-MRI-pytorch')\n",
    "sys.path.append('../data')\n",
    "sys.path.append('../../sequential_ws')"
   ]
  },
  {
   "cell_type": "code",
   "execution_count": 2,
   "metadata": {},
   "outputs": [],
   "source": [
    "import numpy as np\n",
    "import argparse\n",
    "import torch\n",
    "import logging\n",
    "import warnings\n",
    "import pandas\n",
    "from glob import glob\n",
    "from scipy.sparse import csr_matrix\n",
    "import torchvision\n",
    "import torch.nn as nn\n",
    "from torch.nn.functional import normalize\n",
    "import torch.nn.functional as F\n",
    "import torch.optim as optim\n",
    "from torch.autograd import Variable\n",
    "from utils import *\n",
    "from metal.label_model import LabelModel\n",
    "from metal.label_model.baselines import MajorityLabelVoter\n",
    "from metal.analysis import lf_summary, confusion_matrix\n",
    "from DP.label_model import DPLabelModel, optimize"
   ]
  },
  {
   "cell_type": "code",
   "execution_count": 3,
   "metadata": {},
   "outputs": [],
   "source": [
    "logger = logging.getLogger(__name__)\n",
    "warnings.filterwarnings(\"ignore\", category=DeprecationWarning)\n",
    "#warnings.filterwarnings(\"ignore\", category=UndefinedMetricWarning)\n",
    "warnings.filterwarnings(\"ignore\", category=RuntimeWarning)"
   ]
  },
  {
   "cell_type": "code",
   "execution_count": 4,
   "metadata": {},
   "outputs": [],
   "source": [
    "def read_labels(label_list):\n",
    "    '''\n",
    "    Function to read labels given list of labels\n",
    "    Returns a sparse matrix for LFs\n",
    "    Returns numpy array for true labels\n",
    "    \n",
    "    Input\n",
    "    ----\n",
    "    label_list: list of labels\n",
    "    \n",
    "    Output\n",
    "    -----\n",
    "    L: sparse matrix (#patients*#frames, #LFs)\n",
    "    or L: numpy array (#patients*#frames,)\n",
    "    '''\n",
    "    \n",
    "    L = []\n",
    "    for index in range(len(label_list)):\n",
    "        L.append(np.load(label_list[index]))\n",
    "\n",
    "    L = np.squeeze(np.array(L))\n",
    "    \n",
    "    # reshaping array from (PID,frames,) -> (PID*frames,)\n",
    "    m = L.shape[0]\n",
    "    n = L.shape[1]\n",
    "    if(len(L.shape) == 2): # true labels \n",
    "        L = np.reshape(L,(m*n,))\n",
    "        L = L+1 # changing from 0-indexing to 1-indexing\n",
    "    else:\n",
    "        L = csr_matrix(np.reshape(L,(m*n,L.shape[2])))\n",
    "\n",
    "    return L"
   ]
  },
  {
   "cell_type": "code",
   "execution_count": 5,
   "metadata": {},
   "outputs": [],
   "source": [
    "def load_labels(args):\n",
    "    '''\n",
    "    Script to read labels using input args\n",
    "    '''\n",
    "    L = {}\n",
    "    Y = {}\n",
    "\n",
    "    #train_lf_list = glob(args.train + '/lf_labels/*.npy') \n",
    "    L[\"train\"] = read_labels(glob(args[\"train\"] + '/lf_labels/*.npy'))\n",
    "    L[\"dev\"] = read_labels(glob(args[\"dev\"] + '/lf_labels/*.npy'))\n",
    "    L[\"test\"] = read_labels(glob(args[\"test\"] + '/lf_labels/*.npy'))\n",
    "\n",
    "    #import ipdb; ipdb.set_trace()\n",
    "    Y[\"dev\"] = read_labels(glob(args[\"dev\"] + '/true_labels/*.npy'))\n",
    "    Y[\"test\"] = read_labels(glob(args[\"test\"] + '/true_labels/*.npy'))\t\n",
    "\n",
    "    return L,Y"
   ]
  },
  {
   "cell_type": "code",
   "execution_count": 6,
   "metadata": {},
   "outputs": [],
   "source": [
    "# loading data\n",
    "args = {}\n",
    "args[\"train\"] = '../data/open_close/train'\n",
    "args[\"dev\"] = '../data/open_close/dev'\n",
    "args[\"test\"] = '../data/open_close/test'\n",
    "\n",
    "L,Y = load_labels(args) "
   ]
  },
  {
   "cell_type": "code",
   "execution_count": 7,
   "metadata": {},
   "outputs": [],
   "source": [
    "#print(L[\"train\"].todense().shape) # (18850,5)\n",
    "#print(L[\"dev\"].todense().shape) # (1500,5)\n",
    "#print(Y[\"dev\"].shape) # (1500,)"
   ]
  },
  {
   "cell_type": "code",
   "execution_count": 8,
   "metadata": {},
   "outputs": [
    {
     "name": "stdout",
     "output_type": "stream",
     "text": [
      "     Polarity  Coverage  Overlaps  Conflicts  Correct  Incorrect  Emp. Acc.\n",
      "0  [1.0, 2.0]       1.0       1.0   0.212667     1335        165   0.890000\n",
      "1  [1.0, 2.0]       1.0       1.0   0.212667     1304        196   0.869333\n",
      "2  [1.0, 2.0]       1.0       1.0   0.212667     1335        165   0.890000\n",
      "3  [1.0, 2.0]       1.0       1.0   0.212667     1291        209   0.860667\n",
      "4  [1.0, 2.0]       1.0       1.0   0.212667     1377        123   0.918000\n"
     ]
    }
   ],
   "source": [
    "# labelling functions analysis\n",
    "print(lf_summary(L[\"dev\"], Y = Y[\"dev\"]))"
   ]
  },
  {
   "cell_type": "code",
   "execution_count": 9,
   "metadata": {},
   "outputs": [
    {
     "name": "stdout",
     "output_type": "stream",
     "text": [
      "Majority Label Voter Metrics:\n",
      "Accuracy: 0.897\n",
      "Precision: 0.876\n",
      "Recall: 0.901\n",
      "F1: 0.888\n",
      "        y=1    y=2   \n",
      " l=1    612    87    \n",
      " l=2    67     734   \n"
     ]
    }
   ],
   "source": [
    "# majority vote of LFs\n",
    "mv = MajorityLabelVoter(seed=123)\n",
    "print('Majority Label Voter Metrics:')\n",
    "mv_score = mv.score((L[\"dev\"], Y[\"dev\"]), metric=['accuracy','precision', 'recall', 'f1'])"
   ]
  },
  {
   "cell_type": "code",
   "execution_count": 10,
   "metadata": {},
   "outputs": [],
   "source": [
    "# defining parameters\n",
    "num_classes = 2\n",
    "if(torch.cuda.is_available()):\n",
    "    device = 'cuda'\n",
    "else:\n",
    "    device = 'cpu'"
   ]
  },
  {
   "cell_type": "code",
   "execution_count": 11,
   "metadata": {},
   "outputs": [
    {
     "name": "stdout",
     "output_type": "stream",
     "text": [
      "Computing O...\n",
      "Estimating \\mu...\n",
      "[50 epo]: TRAIN:[loss=0.017]\n",
      "[100 epo]: TRAIN:[loss=0.002]\n",
      "[150 epo]: TRAIN:[loss=0.002]\n",
      "[200 epo]: TRAIN:[loss=0.002]\n",
      "[250 epo]: TRAIN:[loss=0.002]\n",
      "[300 epo]: TRAIN:[loss=0.002]\n",
      "[350 epo]: TRAIN:[loss=0.002]\n",
      "[400 epo]: TRAIN:[loss=0.002]\n",
      "[450 epo]: TRAIN:[loss=0.002]\n",
      "[500 epo]: TRAIN:[loss=0.002]\n",
      "Finished Training\n",
      "Trained Label Model Metrics:\n",
      "Accuracy: 0.894\n",
      "Precision: 0.865\n",
      "Recall: 0.907\n",
      "F1: 0.886\n",
      "        y=1    y=2   \n",
      " l=1    616    96    \n",
      " l=2    63     725   \n"
     ]
    }
   ],
   "source": [
    "# training label model - no temporal modelling\n",
    "label_model = LabelModel(k=num_classes, seed=123)\n",
    "label_model.train_model(L[\"train\"], Y[\"dev\"], n_epochs = 500, log_train_every = 50)\n",
    "\n",
    "# evaluating label model\n",
    "print('Trained Label Model Metrics:')\n",
    "lm_score = label_model.score((L[\"dev\"], Y[\"dev\"]), metric=['accuracy','precision', 'recall', 'f1'])"
   ]
  },
  {
   "cell_type": "code",
   "execution_count": 12,
   "metadata": {},
   "outputs": [
    {
     "ename": "RuntimeError",
     "evalue": "tensors used as indices must be long or byte tensors",
     "output_type": "error",
     "traceback": [
      "\u001b[0;31m---------------------------------------------------------------------------\u001b[0m",
      "\u001b[0;31mRuntimeError\u001b[0m                              Traceback (most recent call last)",
      "\u001b[0;32m<ipython-input-12-ae45cef1c8aa>\u001b[0m in \u001b[0;36m<module>\u001b[0;34m\u001b[0m\n\u001b[1;32m     18\u001b[0m                        seed=0)\n\u001b[1;32m     19\u001b[0m \u001b[0;34m\u001b[0m\u001b[0m\n\u001b[0;32m---> 20\u001b[0;31m \u001b[0moptimize\u001b[0m\u001b[0;34m(\u001b[0m\u001b[0mnaive_model\u001b[0m\u001b[0;34m,\u001b[0m \u001b[0mL_hat\u001b[0m\u001b[0;34m=\u001b[0m\u001b[0mMRI_data_naive\u001b[0m\u001b[0;34m[\u001b[0m\u001b[0;34m'Li_train'\u001b[0m\u001b[0;34m]\u001b[0m\u001b[0;34m,\u001b[0m \u001b[0mnum_iter\u001b[0m\u001b[0;34m=\u001b[0m\u001b[0;36m3000\u001b[0m\u001b[0;34m,\u001b[0m \u001b[0mlr\u001b[0m\u001b[0;34m=\u001b[0m\u001b[0;36m1e-3\u001b[0m\u001b[0;34m,\u001b[0m \u001b[0mmomentum\u001b[0m\u001b[0;34m=\u001b[0m\u001b[0;36m0.8\u001b[0m\u001b[0;34m,\u001b[0m \u001b[0mclamp\u001b[0m\u001b[0;34m=\u001b[0m\u001b[0;32mTrue\u001b[0m\u001b[0;34m,\u001b[0m \u001b[0mseed\u001b[0m\u001b[0;34m=\u001b[0m\u001b[0;36m0\u001b[0m\u001b[0;34m)\u001b[0m\u001b[0;34m\u001b[0m\u001b[0;34m\u001b[0m\u001b[0m\n\u001b[0m\u001b[1;32m     21\u001b[0m \u001b[0;34m\u001b[0m\u001b[0m\n\u001b[1;32m     22\u001b[0m \u001b[0mR_pred\u001b[0m \u001b[0;34m=\u001b[0m \u001b[0mnaive_model\u001b[0m\u001b[0;34m.\u001b[0m\u001b[0mpredict\u001b[0m\u001b[0;34m(\u001b[0m \u001b[0mMRI_data_naive\u001b[0m\u001b[0;34m[\u001b[0m\u001b[0;34m'Li_dev'\u001b[0m\u001b[0;34m]\u001b[0m \u001b[0;34m)\u001b[0m\u001b[0;34m\u001b[0m\u001b[0;34m\u001b[0m\u001b[0m\n",
      "\u001b[0;32m~/Desktop/Heart_MRI/sequential_ws/DP/label_model.py\u001b[0m in \u001b[0;36moptimize\u001b[0;34m(model, O_hat, L_hat, num_iter, print_count, lr, clamp, seed, verbose, **kwargs)\u001b[0m\n\u001b[1;32m    334\u001b[0m     \u001b[0;32massert\u001b[0m \u001b[0;34m(\u001b[0m\u001b[0mO_hat\u001b[0m \u001b[0;32mis\u001b[0m \u001b[0;32mNone\u001b[0m\u001b[0;34m)\u001b[0m\u001b[0;34m^\u001b[0m\u001b[0;34m(\u001b[0m\u001b[0mL_hat\u001b[0m \u001b[0;32mis\u001b[0m \u001b[0;32mNone\u001b[0m\u001b[0;34m)\u001b[0m\u001b[0;34m\u001b[0m\u001b[0;34m\u001b[0m\u001b[0m\n\u001b[1;32m    335\u001b[0m     \u001b[0;32mif\u001b[0m \u001b[0mO_hat\u001b[0m \u001b[0;32mis\u001b[0m \u001b[0;32mNone\u001b[0m\u001b[0;34m:\u001b[0m\u001b[0;34m\u001b[0m\u001b[0;34m\u001b[0m\u001b[0m\n\u001b[0;32m--> 336\u001b[0;31m         \u001b[0mO_hat\u001b[0m \u001b[0;34m=\u001b[0m \u001b[0mmodel\u001b[0m\u001b[0;34m.\u001b[0m\u001b[0mcompute_O_hat\u001b[0m\u001b[0;34m(\u001b[0m\u001b[0mL_hat\u001b[0m\u001b[0;34m)\u001b[0m\u001b[0;34m\u001b[0m\u001b[0;34m\u001b[0m\u001b[0m\n\u001b[0m\u001b[1;32m    337\u001b[0m     \u001b[0moptimizer\u001b[0m \u001b[0;34m=\u001b[0m \u001b[0mtorch\u001b[0m\u001b[0;34m.\u001b[0m\u001b[0moptim\u001b[0m\u001b[0;34m.\u001b[0m\u001b[0mSGD\u001b[0m\u001b[0;34m(\u001b[0m\u001b[0mmodel\u001b[0m\u001b[0;34m.\u001b[0m\u001b[0mparameters\u001b[0m\u001b[0;34m(\u001b[0m\u001b[0;34m)\u001b[0m\u001b[0;34m,\u001b[0m \u001b[0mlr\u001b[0m\u001b[0;34m=\u001b[0m\u001b[0mlr\u001b[0m\u001b[0;34m,\u001b[0m \u001b[0;34m**\u001b[0m\u001b[0mkwargs\u001b[0m\u001b[0;34m)\u001b[0m\u001b[0;34m\u001b[0m\u001b[0;34m\u001b[0m\u001b[0m\n\u001b[1;32m    338\u001b[0m     \u001b[0;32mfor\u001b[0m \u001b[0mi\u001b[0m \u001b[0;32min\u001b[0m \u001b[0mrange\u001b[0m\u001b[0;34m(\u001b[0m\u001b[0mnum_iter\u001b[0m\u001b[0;34m)\u001b[0m\u001b[0;34m:\u001b[0m\u001b[0;34m\u001b[0m\u001b[0;34m\u001b[0m\u001b[0m\n",
      "\u001b[0;32m~/Desktop/Heart_MRI/sequential_ws/DP/O_computer.py\u001b[0m in \u001b[0;36mcompute_O_hat\u001b[0;34m(self, Li)\u001b[0m\n\u001b[1;32m    445\u001b[0m         \u001b[0mO\u001b[0m \u001b[0;34m=\u001b[0m \u001b[0;34m{\u001b[0m\u001b[0;34m}\u001b[0m\u001b[0;34m\u001b[0m\u001b[0;34m\u001b[0m\u001b[0m\n\u001b[1;32m    446\u001b[0m         \u001b[0;32mfor\u001b[0m \u001b[0mtriplet\u001b[0m \u001b[0;32min\u001b[0m \u001b[0mself\u001b[0m\u001b[0;34m.\u001b[0m\u001b[0mcoverage_triplets\u001b[0m\u001b[0;34m:\u001b[0m\u001b[0;34m\u001b[0m\u001b[0;34m\u001b[0m\u001b[0m\n\u001b[0;32m--> 447\u001b[0;31m             \u001b[0mO\u001b[0m\u001b[0;34m[\u001b[0m\u001b[0mtriplet\u001b[0m\u001b[0;34m]\u001b[0m \u001b[0;34m=\u001b[0m \u001b[0mtorch\u001b[0m\u001b[0;34m.\u001b[0m\u001b[0meinsum\u001b[0m\u001b[0;34m(\u001b[0m\u001b[0;34m'nia,njb,nkc->iajbkc'\u001b[0m\u001b[0;34m,\u001b[0m \u001b[0;34m[\u001b[0m\u001b[0mself\u001b[0m\u001b[0;34m.\u001b[0m\u001b[0maugment_Li\u001b[0m\u001b[0;34m(\u001b[0m\u001b[0mLi\u001b[0m\u001b[0;34m,\u001b[0m \u001b[0mcov\u001b[0m\u001b[0;34m)\u001b[0m \u001b[0;32mfor\u001b[0m \u001b[0mcov\u001b[0m \u001b[0;32min\u001b[0m \u001b[0mtriplet\u001b[0m\u001b[0;34m]\u001b[0m\u001b[0;34m)\u001b[0m\u001b[0;34m/\u001b[0m\u001b[0mn\u001b[0m\u001b[0;34m\u001b[0m\u001b[0;34m\u001b[0m\u001b[0m\n\u001b[0m\u001b[1;32m    448\u001b[0m         \u001b[0;32mreturn\u001b[0m \u001b[0mO\u001b[0m\u001b[0;34m\u001b[0m\u001b[0;34m\u001b[0m\u001b[0m\n\u001b[1;32m    449\u001b[0m \u001b[0;34m\u001b[0m\u001b[0m\n",
      "\u001b[0;32m~/Desktop/Heart_MRI/sequential_ws/DP/O_computer.py\u001b[0m in \u001b[0;36m<listcomp>\u001b[0;34m(.0)\u001b[0m\n\u001b[1;32m    445\u001b[0m         \u001b[0mO\u001b[0m \u001b[0;34m=\u001b[0m \u001b[0;34m{\u001b[0m\u001b[0;34m}\u001b[0m\u001b[0;34m\u001b[0m\u001b[0;34m\u001b[0m\u001b[0m\n\u001b[1;32m    446\u001b[0m         \u001b[0;32mfor\u001b[0m \u001b[0mtriplet\u001b[0m \u001b[0;32min\u001b[0m \u001b[0mself\u001b[0m\u001b[0;34m.\u001b[0m\u001b[0mcoverage_triplets\u001b[0m\u001b[0;34m:\u001b[0m\u001b[0;34m\u001b[0m\u001b[0;34m\u001b[0m\u001b[0m\n\u001b[0;32m--> 447\u001b[0;31m             \u001b[0mO\u001b[0m\u001b[0;34m[\u001b[0m\u001b[0mtriplet\u001b[0m\u001b[0;34m]\u001b[0m \u001b[0;34m=\u001b[0m \u001b[0mtorch\u001b[0m\u001b[0;34m.\u001b[0m\u001b[0meinsum\u001b[0m\u001b[0;34m(\u001b[0m\u001b[0;34m'nia,njb,nkc->iajbkc'\u001b[0m\u001b[0;34m,\u001b[0m \u001b[0;34m[\u001b[0m\u001b[0mself\u001b[0m\u001b[0;34m.\u001b[0m\u001b[0maugment_Li\u001b[0m\u001b[0;34m(\u001b[0m\u001b[0mLi\u001b[0m\u001b[0;34m,\u001b[0m \u001b[0mcov\u001b[0m\u001b[0;34m)\u001b[0m \u001b[0;32mfor\u001b[0m \u001b[0mcov\u001b[0m \u001b[0;32min\u001b[0m \u001b[0mtriplet\u001b[0m\u001b[0;34m]\u001b[0m\u001b[0;34m)\u001b[0m\u001b[0;34m/\u001b[0m\u001b[0mn\u001b[0m\u001b[0;34m\u001b[0m\u001b[0;34m\u001b[0m\u001b[0m\n\u001b[0m\u001b[1;32m    448\u001b[0m         \u001b[0;32mreturn\u001b[0m \u001b[0mO\u001b[0m\u001b[0;34m\u001b[0m\u001b[0;34m\u001b[0m\u001b[0m\n\u001b[1;32m    449\u001b[0m \u001b[0;34m\u001b[0m\u001b[0m\n",
      "\u001b[0;32m~/Desktop/Heart_MRI/sequential_ws/DP/O_computer.py\u001b[0m in \u001b[0;36maugment_Li\u001b[0;34m(self, Li, coverage)\u001b[0m\n\u001b[1;32m    465\u001b[0m                              device=self.device)\n\u001b[1;32m    466\u001b[0m         \u001b[0;32mfor\u001b[0m \u001b[0mi_index\u001b[0m\u001b[0;34m,\u001b[0m \u001b[0mi\u001b[0m \u001b[0;32min\u001b[0m \u001b[0menumerate\u001b[0m\u001b[0;34m(\u001b[0m\u001b[0mself\u001b[0m\u001b[0;34m.\u001b[0m\u001b[0mcoverage_info\u001b[0m\u001b[0;34m[\u001b[0m\u001b[0mcoverage\u001b[0m\u001b[0;34m]\u001b[0m\u001b[0;34m[\u001b[0m\u001b[0;34m'LF'\u001b[0m\u001b[0;34m]\u001b[0m\u001b[0;34m)\u001b[0m\u001b[0;34m:\u001b[0m\u001b[0;34m\u001b[0m\u001b[0;34m\u001b[0m\u001b[0m\n\u001b[0;32m--> 467\u001b[0;31m             \u001b[0mLi_aug\u001b[0m\u001b[0;34m[\u001b[0m\u001b[0mtorch\u001b[0m\u001b[0;34m.\u001b[0m\u001b[0marange\u001b[0m\u001b[0;34m(\u001b[0m\u001b[0mn\u001b[0m\u001b[0;34m)\u001b[0m\u001b[0;34m,\u001b[0m\u001b[0mi_index\u001b[0m\u001b[0;34m,\u001b[0m\u001b[0mLi\u001b[0m\u001b[0;34m[\u001b[0m\u001b[0;34m:\u001b[0m\u001b[0;34m,\u001b[0m\u001b[0mi\u001b[0m\u001b[0;34m]\u001b[0m\u001b[0;34m]\u001b[0m \u001b[0;34m=\u001b[0m \u001b[0;36m1\u001b[0m\u001b[0;34m\u001b[0m\u001b[0;34m\u001b[0m\u001b[0m\n\u001b[0m\u001b[1;32m    468\u001b[0m         \u001b[0;32mreturn\u001b[0m \u001b[0mLi_aug\u001b[0m\u001b[0;34m\u001b[0m\u001b[0;34m\u001b[0m\u001b[0m\n",
      "\u001b[0;31mRuntimeError\u001b[0m: tensors used as indices must be long or byte tensors"
     ]
    }
   ],
   "source": [
    "# training label model without temporal modelling\n",
    "# ( this should reproduce the results above )\n",
    "# naive model\n",
    "m_per_task = L[\"train\"].todense().shape[1] # 5\n",
    "MRI_data_naive = {'Li_train': torch.FloatTensor(np.array(L[\"train\"].todense())),\n",
    "                'Li_dev': torch.FloatTensor(np.array(L[\"dev\"].todense())),\n",
    "                'R_dev':Y[\"dev\"] }\n",
    "\n",
    "\n",
    "naive_model = DPLabelModel(m=m_per_task, \n",
    "                       T=1,\n",
    "                       edges=[],\n",
    "                       coverage_sets=[[0,]]*m_per_task,\n",
    "                       mu_sharing=[[i,] for i in range(m_per_task)],\n",
    "                       phi_sharing=[],\n",
    "                       device=device,\n",
    "                       #class_balance=MRI_data_naive['class_balance'], \n",
    "                       seed=0)\n",
    "\n",
    "optimize(naive_model, L_hat=MRI_data_naive['Li_train'], num_iter=3000, lr=1e-3, momentum=0.8, clamp=True, seed=0)\n",
    "\n",
    "R_pred = naive_model.predict( MRI_data_naive['Li_dev'] )\n",
    "for metric in ['accuracy', 'f1', 'recall', 'precision']:\n",
    "    score = metric_score(MRI_data_naive['R_dev'].cpu(), R_pred.cpu(), metric)\n",
    "    print(f\"{metric.capitalize()}: {score:.3f}\")"
   ]
  },
  {
   "cell_type": "code",
   "execution_count": null,
   "metadata": {},
   "outputs": [],
   "source": [
    "# training label model with temporal modelling\n",
    "T = 50\n",
    "n_patients_train = round(L[\"train\"].todense().shape[0]/T) #(377)\n",
    "n_patients_dev = round(L[\"dev\"].todense().shape[0]/T) #(30)\n",
    "MRI_data_temporal = {'Li_train': torch.FloatTensor(np.reshape(np.array(L[\"train\"].todense()),(n_patients_train,( m_per_task*T)) )), # (377,250) \n",
    "                    'Li_dev': torch.FloatTensor(np.reshape(np.array(L[\"dev\"].todense()),(n_patients_dev,( m_per_task*T)) )), # (30,250)\n",
    "                    'R_dev':Y[\"dev\"],\n",
    "                    'm': m_per_task*T,\n",
    "                    'T': T }"
   ]
  },
  {
   "cell_type": "code",
   "execution_count": null,
   "metadata": {},
   "outputs": [],
   "source": []
  }
 ],
 "metadata": {
  "kernelspec": {
   "display_name": "Python 3",
   "language": "python",
   "name": "python3"
  },
  "language_info": {
   "codemirror_mode": {
    "name": "ipython",
    "version": 3
   },
   "file_extension": ".py",
   "mimetype": "text/x-python",
   "name": "python",
   "nbconvert_exporter": "python",
   "pygments_lexer": "ipython3",
   "version": "3.6.7"
  }
 },
 "nbformat": 4,
 "nbformat_minor": 2
}
