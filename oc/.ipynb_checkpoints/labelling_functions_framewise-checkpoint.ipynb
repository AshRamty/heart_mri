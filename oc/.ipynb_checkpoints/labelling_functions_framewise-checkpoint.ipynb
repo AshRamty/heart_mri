{
 "cells": [
  {
   "cell_type": "code",
   "execution_count": 1,
   "metadata": {},
   "outputs": [],
   "source": [
    "%matplotlib inline\n",
    "import cv2 \n",
    "import imageio\n",
    "import pickle\n",
    "import pydicom\n",
    "import random\n",
    "import numpy as np\n",
    "from glob import glob\n",
    "import matplotlib.pyplot as plt\n",
    "from skimage.measure import label, regionprops\n",
    "from skimage.segmentation import find_boundaries\n",
    "from scipy.sparse import csr_matrix\n",
    "\n",
    "import sys\n",
    "sys.path.append('../metal')"
   ]
  },
  {
   "cell_type": "code",
   "execution_count": 2,
   "metadata": {},
   "outputs": [],
   "source": [
    "def OCIndex2Label(index_open, index_close):\n",
    "    \"\"\"\n",
    "    Converts from open and close index to frame-wise labels   \n",
    "    \n",
    "    Params\n",
    "    -------\n",
    "    index_open: int\n",
    "    index_close: int\n",
    "    \n",
    "    Return\n",
    "    -------\n",
    "    frame_labels: numpy array of shape (1,50)\n",
    "    \n",
    "    \"\"\"\n",
    "    index_open = int(index_open)\n",
    "    index_close = int(index_close)\n",
    "    \n",
    "    frame_labels = np.zeros([1,50]);\n",
    "    if(index_close >= index_open):\n",
    "        frame_labels[0,index_open:index_close] = 1\n",
    "    else:\n",
    "        frame_labels[0,index_open:50] = 1\n",
    "        frame_labels[0,0:index_close] = 1\n",
    "        \n",
    "    return frame_labels   "
   ]
  },
  {
   "cell_type": "code",
   "execution_count": 3,
   "metadata": {},
   "outputs": [],
   "source": [
    "def plotLabel(label_list, yaxis):\n",
    "    '''\n",
    "    Function to plot labels derived using a labelling function. \n",
    "    \n",
    "    Input\n",
    "    -----\n",
    "    label_list: list shape (50,1)\n",
    "    yaxis: string\n",
    "    \n",
    "    '''\n",
    "    plt.figure()\n",
    "    plt.plot(np.arange(len(label_list)),label_list)\n",
    "    plt.xlabel('frame number')\n",
    "    plt.ylabel(yaxis)\n",
    "    plt.title(yaxis)\n"
   ]
  },
  {
   "cell_type": "code",
   "execution_count": 4,
   "metadata": {},
   "outputs": [],
   "source": [
    "def findAreaLabel(mask):\n",
    "    '''\n",
    "    function to find labels based on area of left atrium\n",
    "    \n",
    "    Input\n",
    "    -----\n",
    "    mask: float (50,208,174)\n",
    "    \n",
    "    Output\n",
    "    -----\n",
    "    label: float (1,50)\n",
    "    \n",
    "    '''\n",
    "    area_la = np.sum(np.sum(mask==1.0,axis=2),axis=1) # area of left atrium\n",
    "    \n",
    "    area_thresh_high = 550\n",
    "    area_thresh_low = 470\n",
    "    \n",
    "    label = np.zeros([1,50])\n",
    "    label[:,(area_la < area_thresh_low) ] = 1\n",
    "    label[:,(area_la > area_thresh_high) ] = 2\n",
    "    \n",
    "    return label"
   ]
  },
  {
   "cell_type": "code",
   "execution_count": 5,
   "metadata": {},
   "outputs": [],
   "source": [
    "def findPerimeterLabel(mask):\n",
    "    '''\n",
    "    function to find labels based on perimeter of left atrium\n",
    "    \n",
    "    Input\n",
    "    -----\n",
    "    mask: float (50,208,174)\n",
    "    \n",
    "    Output\n",
    "    -----\n",
    "    label: float (1,50)\n",
    "    \n",
    "    '''\n",
    "    \n",
    "    label = np.zeros([50,1])\n",
    "    perimeter_thresh_high = 97\n",
    "    perimeter_thresh_low = 92\n",
    "    \n",
    "    # finding perimeter of left atrium \n",
    "    mask[mask!=1.0] = 0.0\n",
    "    mask = mask.astype(int)\n",
    "    perimeter = 0.5*(perimeter_thresh_high+perimeter_thresh_low)*np.ones((50,1))\n",
    "    for frame in range(50):\n",
    "        regions = regionprops(mask[frame])\n",
    "        if regions:\n",
    "            perimeter[frame] = regions[0].perimeter          \n",
    "    \n",
    "    label[(perimeter < perimeter_thresh_low) ] = 1\n",
    "    label[(perimeter > perimeter_thresh_high) ] = 2\n",
    "    \n",
    "    return np.transpose(label)"
   ]
  },
  {
   "cell_type": "code",
   "execution_count": 6,
   "metadata": {},
   "outputs": [],
   "source": [
    "def findIntensityLabel(data, mask):\n",
    "    '''\n",
    "    function to define labels based on intensity within left atrium\n",
    "    \n",
    "    Input\n",
    "    -----\n",
    "    data: float (50,208,174)\n",
    "    mask: float (50,208,174)\n",
    "    \n",
    "    Output\n",
    "    -----\n",
    "    label: float (1,50)\n",
    "    \n",
    "    '''\n",
    "    # avg intensity within segment\n",
    "    mask[mask!=1.0] = 0.0\n",
    "    area_intensity = np.mean(np.mean(np.multiply(mask,data),axis=2),axis=1)\n",
    "        \n",
    "    area_intensity_thresh_high = 4.0\n",
    "    area_intensity_thresh_low = 3.6\n",
    "        \n",
    "    label = np.zeros([1,50])\n",
    "    label[:,(area_intensity < area_intensity_thresh_low) ] = 1\n",
    "    label[:,(area_intensity > area_intensity_thresh_high) ] = 2\n",
    "    \n",
    "    return label"
   ]
  },
  {
   "cell_type": "code",
   "execution_count": 7,
   "metadata": {},
   "outputs": [],
   "source": [
    "def findIntensityLabel2(data, mask):\n",
    "    '''\n",
    "    function to define labels based on intensity along perimeter of left atrium\n",
    "    \n",
    "    Input\n",
    "    -----\n",
    "    data: float (50,208,174)\n",
    "    mask: float (50,208,174)\n",
    "    \n",
    "    Output\n",
    "    -----\n",
    "    label: float (1,50)\n",
    "    \n",
    "    '''\n",
    "    # avg intensity within segment\n",
    "    mask[mask!=1.0] = 0.0\n",
    "    mask = mask.astype(int)\n",
    "    boundary = find_boundaries(mask,mode='outer')\n",
    "    intensity = np.mean(np.mean(np.multiply(boundary,data),axis=2),axis=1)\n",
    "       \n",
    "    perimeter_intensity_thresh_high = 0.82\n",
    "    perimeter_intensity_thresh_low = 0.77\n",
    "    label = np.zeros([1,50])\n",
    "    label[:,(intensity < perimeter_intensity_thresh_low) ] = 1\n",
    "    label[:,(intensity > perimeter_intensity_thresh_high) ] = 2\n",
    "    \n",
    "    return label"
   ]
  },
  {
   "cell_type": "code",
   "execution_count": 8,
   "metadata": {},
   "outputs": [],
   "source": [
    "def findLabelPrior():\n",
    "    index_open = 20\n",
    "    index_close = 1\n",
    "    \n",
    "    label = OCIndex2Label(index_open,index_close)\n",
    "    \n",
    "    # changing to 1-indexing from 0-indexing\n",
    "    label = label + 1\n",
    "    \n",
    "    # adding abstain votes - exact location of open / close is uncertain\n",
    "    low_margin = 3\n",
    "    high_margin = 2\n",
    "    label[:,index_open-low_margin:index_open+high_margin] = 0\n",
    "    index_low = (index_close-low_margin)%50\n",
    "    index_high = (index_close+high_margin)%50\n",
    "    \n",
    "    if(index_close+high_margin < 50 and index_close-low_margin >=0):\n",
    "        label[:,index_low:index_high] = 0\n",
    "    else:\n",
    "        label[:,index_low:50] = 0\n",
    "        label[:,0:index_high] = 0\n",
    "        \n",
    "    return label"
   ]
  },
  {
   "cell_type": "code",
   "execution_count": 9,
   "metadata": {},
   "outputs": [],
   "source": [
    "# load labels, data and masks\n",
    "# change path to where data is\n",
    "#path = '/Users/ashwiniramamoorthy/Desktop/Heart_MRI/data/'\n",
    "path = '../data/'\n",
    "with open(path+'all_labels.pickle', 'rb') as handle:\n",
    "    labels = pickle.load(handle)\n",
    "\n",
    "with open(path+'data.pickle', 'rb') as handle:\n",
    "    data = pickle.load(handle)\n",
    "    \n",
    "with open(path+'mask.pickle', 'rb') as handle:\n",
    "    mask = pickle.load(handle)"
   ]
  },
  {
   "cell_type": "code",
   "execution_count": 10,
   "metadata": {},
   "outputs": [
    {
     "name": "stdout",
     "output_type": "stream",
     "text": [
      "1476888\n"
     ]
    },
    {
     "ename": "NameError",
     "evalue": "name 'area_intensity' is not defined",
     "output_type": "error",
     "traceback": [
      "\u001b[0;31m---------------------------------------------------------------------------\u001b[0m",
      "\u001b[0;31mNameError\u001b[0m                                 Traceback (most recent call last)",
      "\u001b[0;32m<ipython-input-10-01d610f7e800>\u001b[0m in \u001b[0;36m<module>\u001b[0;34m\u001b[0m\n\u001b[1;32m     21\u001b[0m \u001b[0;34m\u001b[0m\u001b[0m\n\u001b[1;32m     22\u001b[0m \u001b[0;31m# computing perimeter intensity label\u001b[0m\u001b[0;34m\u001b[0m\u001b[0;34m\u001b[0m\u001b[0;34m\u001b[0m\u001b[0m\n\u001b[0;32m---> 23\u001b[0;31m \u001b[0meg_intensity2_label\u001b[0m \u001b[0;34m=\u001b[0m \u001b[0mnp\u001b[0m\u001b[0;34m.\u001b[0m\u001b[0mtranspose\u001b[0m\u001b[0;34m(\u001b[0m\u001b[0mfindIntensityLabel2\u001b[0m\u001b[0;34m(\u001b[0m\u001b[0mdata\u001b[0m\u001b[0;34m[\u001b[0m\u001b[0meg_key\u001b[0m\u001b[0;34m]\u001b[0m\u001b[0;34m,\u001b[0m \u001b[0mmask\u001b[0m\u001b[0;34m[\u001b[0m\u001b[0meg_key\u001b[0m\u001b[0;34m]\u001b[0m\u001b[0;34m)\u001b[0m\u001b[0;34m)\u001b[0m\u001b[0;34m\u001b[0m\u001b[0;34m\u001b[0m\u001b[0m\n\u001b[0m\u001b[1;32m     24\u001b[0m \u001b[0mplotLabel\u001b[0m\u001b[0;34m(\u001b[0m\u001b[0meg_intensity2_label\u001b[0m\u001b[0;34m,\u001b[0m \u001b[0;34m'perimeter intensity label'\u001b[0m\u001b[0;34m)\u001b[0m\u001b[0;34m\u001b[0m\u001b[0;34m\u001b[0m\u001b[0m\n\u001b[1;32m     25\u001b[0m \u001b[0;34m\u001b[0m\u001b[0m\n",
      "\u001b[0;32m<ipython-input-7-2ad2ce7e2228>\u001b[0m in \u001b[0;36mfindIntensityLabel2\u001b[0;34m(data, mask)\u001b[0m\n\u001b[1;32m     22\u001b[0m     \u001b[0mperimeter_intensity_thresh_low\u001b[0m \u001b[0;34m=\u001b[0m \u001b[0;36m0.77\u001b[0m\u001b[0;34m\u001b[0m\u001b[0;34m\u001b[0m\u001b[0m\n\u001b[1;32m     23\u001b[0m     \u001b[0mlabel\u001b[0m \u001b[0;34m=\u001b[0m \u001b[0mnp\u001b[0m\u001b[0;34m.\u001b[0m\u001b[0mzeros\u001b[0m\u001b[0;34m(\u001b[0m\u001b[0;34m[\u001b[0m\u001b[0;36m1\u001b[0m\u001b[0;34m,\u001b[0m\u001b[0;36m50\u001b[0m\u001b[0;34m]\u001b[0m\u001b[0;34m)\u001b[0m\u001b[0;34m\u001b[0m\u001b[0;34m\u001b[0m\u001b[0m\n\u001b[0;32m---> 24\u001b[0;31m     \u001b[0mlabel\u001b[0m\u001b[0;34m[\u001b[0m\u001b[0;34m:\u001b[0m\u001b[0;34m,\u001b[0m\u001b[0;34m(\u001b[0m\u001b[0marea_intensity\u001b[0m \u001b[0;34m<\u001b[0m \u001b[0mperimeter_intensity_thresh_low\u001b[0m\u001b[0;34m)\u001b[0m \u001b[0;34m]\u001b[0m \u001b[0;34m=\u001b[0m \u001b[0;36m1\u001b[0m\u001b[0;34m\u001b[0m\u001b[0;34m\u001b[0m\u001b[0m\n\u001b[0m\u001b[1;32m     25\u001b[0m     \u001b[0mlabel\u001b[0m\u001b[0;34m[\u001b[0m\u001b[0;34m:\u001b[0m\u001b[0;34m,\u001b[0m\u001b[0;34m(\u001b[0m\u001b[0marea_intensity\u001b[0m \u001b[0;34m>\u001b[0m \u001b[0mperimeter_intensity_thresh_high\u001b[0m\u001b[0;34m)\u001b[0m \u001b[0;34m]\u001b[0m \u001b[0;34m=\u001b[0m \u001b[0;36m2\u001b[0m\u001b[0;34m\u001b[0m\u001b[0;34m\u001b[0m\u001b[0m\n\u001b[1;32m     26\u001b[0m \u001b[0;34m\u001b[0m\u001b[0m\n",
      "\u001b[0;31mNameError\u001b[0m: name 'area_intensity' is not defined"
     ]
    },
    {
     "data": {
      "image/png": "[encoded data removed]",
      "text/plain": [
       "<Figure size 432x288 with 1 Axes>"
      ]
     },
     "metadata": {
      "needs_background": "light"
     },
     "output_type": "display_data"
    },
    {
     "data": {
      "image/png": "[encoded data removed]",
      "text/plain": [
       "<Figure size 432x288 with 1 Axes>"
      ]
     },
     "metadata": {
      "needs_background": "light"
     },
     "output_type": "display_data"
    },
    {
     "data": {
      "image/png": "[encoded data removed]",
      "text/plain": [
       "<Figure size 432x288 with 1 Axes>"
      ]
     },
     "metadata": {
      "needs_background": "light"
     },
     "output_type": "display_data"
    },
    {
     "data": {
      "image/png": "[encoded data removed]",
      "text/plain": [
       "<Figure size 432x288 with 1 Axes>"
      ]
     },
     "metadata": {
      "needs_background": "light"
     },
     "output_type": "display_data"
    }
   ],
   "source": [
    "# plotting the label measure vs frame for a single example\n",
    "eg_key = list(labels.keys())[0]\n",
    "print(eg_key)\n",
    "\n",
    "# printing ground truth label of the eg\n",
    "start_frame, end_frame = labels[eg_key]\n",
    "eg_true_label = np.transpose(OCIndex2Label(start_frame,end_frame))\n",
    "plotLabel(eg_true_label, 'ground truth label')\n",
    "\n",
    "# computing area label\n",
    "eg_area_label = np.transpose(findAreaLabel(mask[eg_key]))\n",
    "plotLabel(eg_area_label, 'area label')\n",
    "\n",
    "# computing perimeter label \n",
    "eg_perimeter_label = np.transpose(findPerimeterLabel(mask[eg_key]))\n",
    "plotLabel(eg_perimeter_label, 'perimeter label')\n",
    "\n",
    "# computing area intensity label \n",
    "eg_intensity_label = np.transpose(findIntensityLabel(data[eg_key], mask[eg_key]))\n",
    "plotLabel(eg_intensity_label, 'area intensity label')\n",
    "\n",
    "# computing perimeter intensity label \n",
    "eg_intensity2_label = np.transpose(findIntensityLabel2(data[eg_key], mask[eg_key]))\n",
    "plotLabel(eg_intensity2_label, 'perimeter intensity label')\n",
    "\n",
    "# using frame number to define frame label prior\n",
    "label_prior = np.transpose(findLabelPrior())\n",
    "plotLabel(label_prior, 'label prior')\n"
   ]
  },
  {
   "cell_type": "code",
   "execution_count": null,
   "metadata": {},
   "outputs": [],
   "source": [
    "#computing labels for all subjects\n",
    "image_labels = np.zeros((len(labels),50))\n",
    "area_labels = np.zeros((len(labels),50))\n",
    "perimeter_labels = np.zeros((len(labels),50))\n",
    "intensity_labels = np.zeros((len(labels),50))\n",
    "intensity2_labels = np.zeros((len(labels),50))\n",
    "label_prior = np.zeros((len(labels),50))\n",
    "\n",
    "for iter in range(len(labels)):\n",
    "    PID = list(labels.keys())[iter]\n",
    "    print(PID)\n",
    "    \n",
    "    start_frame, end_frame = labels[PID]\n",
    "    image_labels[iter,:] = OCIndex2Label(start_frame,end_frame)\n",
    "    area_labels[iter,:] = findAreaLabel(mask[PID])\n",
    "    perimeter_labels[iter,:] = findPerimeterLabel(mask[PID])\n",
    "    intensity_labels[iter,:] = findIntensityLabel(data[PID], mask[PID])\n",
    "    intensity2_labels[iter,:] = findIntensityLabel2(data[PID], mask[PID])\n",
    "    label_prior[iter,:] = findLabelPrior()"
   ]
  },
  {
   "cell_type": "code",
   "execution_count": null,
   "metadata": {},
   "outputs": [],
   "source": [
    "# plotting average labels\n",
    "plotLabel(np.mean(image_labels,axis=0), 'average ground truth label')\n",
    "plotLabel(np.mean(area_labels,axis=0), 'average area label')\n",
    "plotLabel(np.mean(perimeter_labels,axis=0), 'average perimeter label')\n",
    "plotLabel(np.mean(intensity_labels,axis=0), 'average area intensity label')\n",
    "plotLabel(np.mean(intensity2_labels,axis=0), 'average perimeter intensity label')\n",
    "plotLabel(np.mean(label_prior,axis=0), 'average label prior')"
   ]
  },
  {
   "cell_type": "code",
   "execution_count": null,
   "metadata": {},
   "outputs": [],
   "source": [
    "# evaluating labelling functions using metal metrics\n",
    "L = np.stack((area_labels, perimeter_labels, intensity_labels, intensity2_labels, label_prior),axis=2) #(30,50,5)\n",
    "Y = image_labels # (30,50)\n",
    "\n",
    "# reshaping \n",
    "L = np.reshape(L,(len(labels)*50,5)) # (1500,5)\n",
    "Y = Y.flatten() #(1500,)\n",
    "\n",
    "# using metal indexing\n",
    "Y = Y+1\n",
    "\n",
    "from metal.analysis import lf_summary\n",
    "lf_summary(csr_matrix(L),csr_matrix(Y))"
   ]
  }
 ],
 "metadata": {
  "kernelspec": {
   "display_name": "Python 3",
   "language": "python",
   "name": "python3"
  },
  "language_info": {
   "codemirror_mode": {
    "name": "ipython",
    "version": 3
   },
   "file_extension": ".py",
   "mimetype": "text/x-python",
   "name": "python",
   "nbconvert_exporter": "python",
   "pygments_lexer": "ipython3",
   "version": "3.6.7"
  }
 },
 "nbformat": 4,
 "nbformat_minor": 2
}
