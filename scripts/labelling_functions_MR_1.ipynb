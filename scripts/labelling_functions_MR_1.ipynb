{
 "cells": [
  {
   "cell_type": "code",
   "execution_count": 1,
   "metadata": {},
   "outputs": [],
   "source": [
    "%matplotlib inline\n",
    "#%matplotlib\n",
    "import cv2 \n",
    "import imageio\n",
    "import pickle\n",
    "import pydicom\n",
    "import random\n",
    "import numpy as np\n",
    "import pandas as pd\n",
    "from glob import glob\n",
    "import matplotlib.pyplot as plt\n",
    "from skimage.measure import label, regionprops\n",
    "from skimage.segmentation import find_boundaries\n",
    "from scipy.sparse import csr_matrix\n",
    "\n",
    "import sys\n",
    "sys.path.append('../metal')"
   ]
  },
  {
   "cell_type": "code",
   "execution_count": 2,
   "metadata": {},
   "outputs": [],
   "source": [
    "data_path = '../data/mr/dev/'\n",
    "labels = pd.read_csv(data_path+'labels.csv')"
   ]
  },
  {
   "cell_type": "code",
   "execution_count": 3,
   "metadata": {},
   "outputs": [],
   "source": [
    "def findArea(mask):\n",
    "    area = np.sum(np.sum(mask==1.0,axis=2),axis=1) # area of left atrium\n",
    "    return area\n",
    "    "
   ]
  },
  {
   "cell_type": "code",
   "execution_count": 4,
   "metadata": {},
   "outputs": [],
   "source": [
    "def findEjectionFraction(mask):\n",
    "    area = findArea(mask)\n",
    "    ejection_fraction = min(area)/max(area)\n",
    "    \n",
    "    return ejection_fraction"
   ]
  },
  {
   "cell_type": "code",
   "execution_count": 5,
   "metadata": {},
   "outputs": [
    {
     "name": "stdout",
     "output_type": "stream",
     "text": [
      "(250,)\n",
      "(250,)\n"
     ]
    }
   ],
   "source": [
    "dev_PIDs = labels.ID\n",
    "dev_labels = labels.LABEL \n",
    "\n",
    "print(dev_PIDs.shape)\n",
    "print(dev_labels.shape)"
   ]
  },
  {
   "cell_type": "code",
   "execution_count": 6,
   "metadata": {},
   "outputs": [],
   "source": [
    "MR_indices = [i for i,x in enumerate(dev_labels) if x == 1.0]\n",
    "nonMR_indices = [i for i,x in enumerate(dev_labels) if x == 0.0]\n",
    "\n",
    "MR_PIDs = dev_PIDs[MR_indices[:25]]\n",
    "nonMR_PIDs = dev_PIDs[nonMR_indices[:25]]"
   ]
  },
  {
   "cell_type": "code",
   "execution_count": 7,
   "metadata": {},
   "outputs": [
    {
     "name": "stdout",
     "output_type": "stream",
     "text": [
      "3642274\n",
      "3294835\n",
      "2782922\n",
      "4755232\n",
      "3973512\n",
      "5999936\n",
      "2751831\n",
      "2357964\n",
      "4698284\n",
      "2473769\n",
      "5795137\n",
      "2288001\n",
      "5139473\n",
      "3138102\n",
      "2736555\n",
      "2582951\n",
      "4264839\n",
      "3837322\n",
      "2748855\n",
      "2480854\n",
      "3912681\n",
      "1862574\n",
      "5028350\n",
      "3070856\n",
      "3768159\n",
      "4696782\n",
      "2224539\n",
      "2260153\n",
      "5347895\n",
      "1629308\n",
      "2785839\n",
      "1590041\n",
      "5441523\n",
      "2352684\n",
      "2737660\n",
      "2382060\n",
      "3798342\n",
      "5842364\n",
      "4393066\n",
      "3962069\n",
      "5306634\n",
      "1761094\n",
      "3963033\n",
      "2437861\n",
      "5931059\n",
      "1360459\n",
      "1393273\n",
      "5228762\n",
      "1845554\n",
      "4072135\n"
     ]
    }
   ],
   "source": [
    "# loading data and mask\n",
    "data = {}\n",
    "mask = {} \n",
    "Y = {}\n",
    "for PID in MR_PIDs:\n",
    "    print(PID)\n",
    "    data[PID] = np.load(data_path+'la_4ch/'+str(PID)+'.npy')\n",
    "    mask[PID] = np.load(data_path+'la_4ch_mask/'+str(PID)+'.npy')\n",
    "    Y[PID] = 1    \n",
    "    \n",
    "for PID in nonMR_PIDs:\n",
    "    print(PID)\n",
    "    data[PID] = np.load(data_path+'la_4ch/'+str(PID)+'.npy')\n",
    "    mask[PID] = np.load(data_path+'la_4ch_mask/'+str(PID)+'.npy')\n",
    "    Y[PID] = 0   "
   ]
  },
  {
   "cell_type": "code",
   "execution_count": 8,
   "metadata": {},
   "outputs": [],
   "source": [
    "MR_EF = []\n",
    "nonMR_EF = [] \n",
    "\n",
    "for PID in MR_PIDs:\n",
    "    MR_EF.append(findEjectionFraction(mask[PID]))\n",
    "    \n",
    "for PID in nonMR_PIDs:\n",
    "    nonMR_EF.append(findEjectionFraction(mask[PID]))"
   ]
  },
  {
   "cell_type": "code",
   "execution_count": 9,
   "metadata": {},
   "outputs": [
    {
     "data": {
      "image/png": "[encoded data removed]",
      "text/plain": [
       "<Figure size 432x288 with 1 Axes>"
      ]
     },
     "metadata": {
      "needs_background": "light"
     },
     "output_type": "display_data"
    }
   ],
   "source": [
    "plt.figure()\n",
    "plt.hist(MR_EF, bins=10, alpha = 0.5, label='MR')\n",
    "plt.hist(nonMR_EF, bins=10, alpha = 0.5, label='non MR')\n",
    "plt.legend()\n",
    "plt.show()"
   ]
  },
  {
   "cell_type": "code",
   "execution_count": null,
   "metadata": {},
   "outputs": [],
   "source": []
  }
 ],
 "metadata": {
  "kernelspec": {
   "display_name": "Python 3",
   "language": "python",
   "name": "python3"
  },
  "language_info": {
   "codemirror_mode": {
    "name": "ipython",
    "version": 3
   },
   "file_extension": ".py",
   "mimetype": "text/x-python",
   "name": "python",
   "nbconvert_exporter": "python",
   "pygments_lexer": "ipython3",
   "version": "3.6.7"
  }
 },
 "nbformat": 4,
 "nbformat_minor": 2
}
