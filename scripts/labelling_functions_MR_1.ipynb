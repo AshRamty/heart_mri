{
 "cells": [
  {
   "cell_type": "code",
   "execution_count": 1,
   "metadata": {},
   "outputs": [],
   "source": [
    "%matplotlib inline\n",
    "#%matplotlib\n",
    "import cv2 \n",
    "import imageio\n",
    "import pickle\n",
    "import pydicom\n",
    "import random\n",
    "import numpy as np\n",
    "import pandas as pd\n",
    "from glob import glob\n",
    "import matplotlib.pyplot as plt\n",
    "from skimage.measure import label, regionprops\n",
    "from skimage.segmentation import find_boundaries\n",
    "from scipy.sparse import csr_matrix\n",
    "\n",
    "import sys\n",
    "sys.path.append('../metal')"
   ]
  },
  {
   "cell_type": "code",
   "execution_count": 2,
   "metadata": {},
   "outputs": [],
   "source": [
    "data_path = '../data/mr/dev/'\n",
    "labels = pd.read_csv(data_path+'labels.csv')"
   ]
  },
  {
   "cell_type": "code",
   "execution_count": 3,
   "metadata": {},
   "outputs": [],
   "source": [
    "def findLeftArea(mask):\n",
    "    area = np.sum(np.sum(mask==1.0,axis=2),axis=1) # area of left atrium\n",
    "    return area"
   ]
  },
  {
   "cell_type": "code",
   "execution_count": 4,
   "metadata": {},
   "outputs": [],
   "source": [
    "def findRightArea(mask):\n",
    "    area = np.sum(np.sum(mask==2.0,axis=2),axis=1) # area of left atrium\n",
    "    return area"
   ]
  },
  {
   "cell_type": "code",
   "execution_count": 5,
   "metadata": {},
   "outputs": [],
   "source": [
    "def findLeftPerimeter(mask):\n",
    "    mask[mask!=1.0] = 0.0\n",
    "    mask = mask.astype(int)\n",
    "    perimeter = np.zeros((50,1))\n",
    "    for frame in range(50):\n",
    "        regions = regionprops(mask[frame])\n",
    "        perimeter[frame] = regions[0].perimeter\n",
    "    \n",
    "    return perimeter"
   ]
  },
  {
   "cell_type": "code",
   "execution_count": 6,
   "metadata": {},
   "outputs": [],
   "source": [
    "def findRightPerimeter(mask):\n",
    "    mask[mask!=2.0] = 0.0\n",
    "    mask = mask.astype(int)\n",
    "    perimeter = np.zeros((50,1))\n",
    "    for frame in range(50):\n",
    "        regions = regionprops(mask[frame])\n",
    "        perimeter[frame] = regions[0].perimeter\n",
    "    \n",
    "    return perimeter"
   ]
  },
  {
   "cell_type": "code",
   "execution_count": 7,
   "metadata": {},
   "outputs": [],
   "source": [
    "def findLeftEF(mask):\n",
    "    area = findLeftArea(mask)\n",
    "    ejection_fraction = min(area)/max(area)\n",
    "    \n",
    "    return ejection_fraction"
   ]
  },
  {
   "cell_type": "code",
   "execution_count": 8,
   "metadata": {},
   "outputs": [],
   "source": [
    "def findRightEF(mask):\n",
    "    area = findRightArea(mask)\n",
    "    ejection_fraction = min(area)/max(area)\n",
    "    \n",
    "    return ejection_fraction"
   ]
  },
  {
   "cell_type": "code",
   "execution_count": 9,
   "metadata": {},
   "outputs": [],
   "source": [
    "def findLeftAreaVar(mask):\n",
    "    area = findLeftArea(mask)\n",
    "    area_var = np.var(area)\n",
    "    \n",
    "    return area_var"
   ]
  },
  {
   "cell_type": "code",
   "execution_count": 10,
   "metadata": {},
   "outputs": [],
   "source": [
    "def findRightAreaVar(mask):\n",
    "    area = findRightArea(mask)\n",
    "    area_var = np.var(area)\n",
    "    \n",
    "    return area_var"
   ]
  },
  {
   "cell_type": "code",
   "execution_count": 11,
   "metadata": {},
   "outputs": [],
   "source": [
    "def findFrameAreaRatio(mask):\n",
    "    left_area = findLeftArea(mask)\n",
    "    right_area = findRightArea(mask)\n",
    "    area_ratio = np.mean(np.divide(left_area,right_area))\n",
    "    \n",
    "    return area_ratio"
   ]
  },
  {
   "cell_type": "code",
   "execution_count": 12,
   "metadata": {},
   "outputs": [],
   "source": [
    "def findFrameRatioVar(mask):\n",
    "    left_area = findLeftArea(mask)\n",
    "    right_area = findRightArea(mask)\n",
    "    ratio_var = np.var(np.divide(left_area,right_area))\n",
    "    \n",
    "    return ratio_var"
   ]
  },
  {
   "cell_type": "code",
   "execution_count": 13,
   "metadata": {},
   "outputs": [],
   "source": [
    "def findAreaPerimeterRatio(mask):\n",
    "    area=  findLeftArea(mask)\n",
    "    perimeter = findLeftPerimeter(mask)\n",
    "    #print(perimeter)\n",
    "    \n",
    "    ratio = np.divide(area, np.power(perimeter,2))\n",
    "    #ratio = np.divide(area, perimeter)\n",
    "    #print(np.nanmean(ratio))\n",
    "    return np.nanmean(ratio)"
   ]
  },
  {
   "cell_type": "code",
   "execution_count": 14,
   "metadata": {},
   "outputs": [],
   "source": [
    "def findAreaPerimeterRatioVar(mask):\n",
    "    area=  findLeftArea(mask)\n",
    "    perimeter = findLeftPerimeter(mask)\n",
    "    \n",
    "    ratio = np.divide(area, np.power(perimeter,2))\n",
    "    #ratio = np.divide(area, perimeter)\n",
    "    return np.nanvar(ratio)"
   ]
  },
  {
   "cell_type": "code",
   "execution_count": 15,
   "metadata": {},
   "outputs": [],
   "source": [
    "def OCIndex2Label(index_open, index_close):\n",
    "    \"\"\"\n",
    "    Converts from open and close index to frame-wise labels   \n",
    "    \n",
    "    Params\n",
    "    -------\n",
    "    index_open: int\n",
    "    index_close: int\n",
    "    \n",
    "    Return\n",
    "    -------\n",
    "    frame_labels: numpy array of shape (1,50)\n",
    "    \n",
    "    \"\"\"\n",
    "    index_open = int(index_open)\n",
    "    index_close = int(index_close)\n",
    "    \n",
    "    frame_labels = np.zeros([1,50]);\n",
    "    if(index_close >= index_open):\n",
    "        frame_labels[0,index_open:index_close] = 1\n",
    "    else:\n",
    "        frame_labels[0,index_open:50] = 1\n",
    "        frame_labels[0,0:index_close] = 1\n",
    "        \n",
    "    return frame_labels   "
   ]
  },
  {
   "cell_type": "code",
   "execution_count": 16,
   "metadata": {},
   "outputs": [],
   "source": [
    "def findAreaLabel(mask):\n",
    "    '''\n",
    "    function to find labels based on area of left atrium\n",
    "    \n",
    "    Input\n",
    "    -----\n",
    "    mask: float (50,208,174)\n",
    "    \n",
    "    Output\n",
    "    -----\n",
    "    label: float (1,50)\n",
    "    \n",
    "    '''\n",
    "    area_la = np.sum(np.sum(mask==1.0,axis=2),axis=1) # area of left atrium\n",
    "    \n",
    "    # finding when mitral valve opens - when area is largest\n",
    "    index_open = np.argmax(area_la)\n",
    "\n",
    "    # finding when mitral valve closes - when area is smallest\n",
    "    index_close = np.argmin(area_la)\n",
    "    \n",
    "    label = OCIndex2Label(index_open, index_close)\n",
    "    \n",
    "    # changing to 1-indexing from 0-indexing\n",
    "    label = label + 1\n",
    "    \n",
    "    # adding abstain votes - exact location of open / close is uncertain\n",
    "    label[:,index_open-3:index_open+2] = 0\n",
    "    index_low = (index_close-3)%50\n",
    "    index_high = (index_close+2)%50\n",
    "    if(index_close+2 < 50 and index_close-3 >=0):\n",
    "        label[:,index_low:index_high] = 0\n",
    "    else:\n",
    "        label[:,index_low:50] = 0\n",
    "        label[:,0:index_high] = 0\n",
    "    \n",
    "    return label"
   ]
  },
  {
   "cell_type": "code",
   "execution_count": 17,
   "metadata": {},
   "outputs": [],
   "source": [
    "def findPerimeterLabel(mask):\n",
    "    '''\n",
    "    function to find labels based on perimeter of left atrium\n",
    "    \n",
    "    Input\n",
    "    -----\n",
    "    mask: float (50,208,174)\n",
    "    \n",
    "    Output\n",
    "    -----\n",
    "    label: float (1,50)\n",
    "    \n",
    "    '''\n",
    "    \n",
    "    # finding perimeter of left atrium \n",
    "    mask[mask!=1.0] = 0.0\n",
    "    mask = mask.astype(int)\n",
    "    perimeter = np.zeros((50,1))\n",
    "    for frame in range(50):\n",
    "        regions = regionprops(mask[frame])\n",
    "        perimeter[frame] = regions[0].perimeter\n",
    "        \n",
    "    # mitral valve opens - when perimeter is largest\n",
    "    index_open = np.argmax(perimeter)\n",
    "\n",
    "    # mitral valve closes - when perimeter is smallest\n",
    "    index_close = np.argmin(perimeter)\n",
    "    \n",
    "    label = OCIndex2Label(index_open, index_close)\n",
    "    \n",
    "    # changing to 1-indexing from 0-indexing\n",
    "    label = label + 1\n",
    "    \n",
    "    # adding abstain votes - exact location of open / close is uncertain\n",
    "    label[:,index_open-3:index_open+2] = 0\n",
    "    index_low = (index_close-3)%50\n",
    "    index_high = (index_close+2)%50\n",
    "        \n",
    "    if(index_close+2 < 50 and index_close-3 >=0):\n",
    "        label[:,index_low:index_high] = 0\n",
    "    else:\n",
    "        label[:,index_low:50] = 0\n",
    "        label[:,0:index_high] = 0\n",
    "    \n",
    "    return label"
   ]
  },
  {
   "cell_type": "code",
   "execution_count": 18,
   "metadata": {},
   "outputs": [],
   "source": [
    "def findIntensityLabel(data, mask):\n",
    "    '''\n",
    "    function to define labels based on intensity within left atrium\n",
    "    \n",
    "    Input\n",
    "    -----\n",
    "    data: float (50,208,174)\n",
    "    mask: float (50,208,174)\n",
    "    \n",
    "    Output\n",
    "    -----\n",
    "    label: float (1,50)\n",
    "    \n",
    "    '''\n",
    "    # avg intensity within segment\n",
    "    mask[mask!=1.0] = 0.0\n",
    "    area_intensity = np.mean(np.mean(np.multiply(mask,data),axis=2),axis=1)\n",
    "        \n",
    "    # finding when mitral valve opens - when area is largest\n",
    "    index_open = np.argmax(area_intensity)\n",
    "\n",
    "    # finding when mitral valve closes - when area is smallest\n",
    "    index_close = np.argmin(area_intensity)\n",
    "    \n",
    "    label = OCIndex2Label(index_open, index_close)\n",
    "    \n",
    "    # changing to 1-indexing from 0-indexing\n",
    "    label = label + 1\n",
    "    \n",
    "    # adding abstain votes - exact location of open / close is uncertain\n",
    "    label[:,index_open-3:index_open+2] = 0\n",
    "    index_low = (index_close-4)%50\n",
    "    index_high = (index_close+3)%50\n",
    "    if(index_close+2 < 50 and index_close-3 >=0):\n",
    "        label[:,index_low:index_high] = 0\n",
    "    else:\n",
    "        label[:,index_low:50] = 0\n",
    "        label[:,0:index_high] = 0\n",
    "        \n",
    "    return label"
   ]
  },
  {
   "cell_type": "code",
   "execution_count": 19,
   "metadata": {},
   "outputs": [],
   "source": [
    "def findIntensityLabel2(data, mask):\n",
    "    '''\n",
    "    function to define labels based on intensity along perimeter of left atrium\n",
    "    \n",
    "    Input\n",
    "    -----\n",
    "    data: float (50,208,174)\n",
    "    mask: float (50,208,174)\n",
    "    \n",
    "    Output\n",
    "    -----\n",
    "    label: float (1,50)\n",
    "    \n",
    "    '''\n",
    "    # avg intensity within segment\n",
    "    mask[mask!=1.0] = 0.0\n",
    "    mask = mask.astype(int)\n",
    "    boundary = find_boundaries(mask,mode='outer')\n",
    "    intensity = np.mean(np.mean(np.multiply(boundary,data),axis=2),axis=1)\n",
    "        \n",
    "    # finding when mitral valve opens - when area is largest\n",
    "    index_open = np.argmax(intensity)\n",
    "\n",
    "    # finding when mitral valve closes - when area is smallest\n",
    "    index_close = np.argmin(intensity)\n",
    "    \n",
    "    label = OCIndex2Label(index_open, index_close)\n",
    "    \n",
    "    # changing to 1-indexing from 0-indexing\n",
    "    label = label + 1\n",
    "    \n",
    "    # adding abstain votes - exact location of open / close is uncertain\n",
    "    label[:,index_open-3:index_open+2] = 0\n",
    "    index_low = (index_close-4)%50\n",
    "    index_high = (index_close+3)%50\n",
    "    if(index_close+2 < 50 and index_close-3 >=0):\n",
    "        label[:,index_low:index_high] = 0\n",
    "    else:\n",
    "        label[:,index_low:50] = 0\n",
    "        label[:,0:index_high] = 0\n",
    "    \n",
    "    return label"
   ]
  },
  {
   "cell_type": "code",
   "execution_count": 20,
   "metadata": {},
   "outputs": [],
   "source": [
    "def findLabelPrior():\n",
    "    index_open = 20\n",
    "    index_close = 1\n",
    "    \n",
    "    label = OCIndex2Label(index_open,index_close)\n",
    "    \n",
    "    # changing to 1-indexing from 0-indexing\n",
    "    label = label + 1\n",
    "    \n",
    "    # adding abstain votes - exact location of open / close is uncertain\n",
    "    label[:,index_open-3:index_open+2] = 0\n",
    "    index_low = (index_close-4)%50\n",
    "    index_high = (index_close+3)%50\n",
    "    if(index_close+2 < 50 and index_close-3 >=0):\n",
    "        label[:,index_low:index_high] = 0\n",
    "    else:\n",
    "        label[:,index_low:50] = 0\n",
    "        label[:,0:index_high] = 0\n",
    "        \n",
    "    return label"
   ]
  },
  {
   "cell_type": "code",
   "execution_count": 21,
   "metadata": {},
   "outputs": [],
   "source": [
    "# define 80% coverage labelling functions\n",
    "#import import_ipynb\n",
    "#import labelling_functions_3\n",
    "\n",
    "def findLFLabelsEg(data,mask):\n",
    "    '''\n",
    "    Function computes the LFs for the given data\n",
    "    Saves the numpy array for each individual PID in the folder specified\n",
    "    '''\n",
    "    L = np.zeros((50,5))\n",
    "    L[:,0] = np.squeeze(np.transpose(findAreaLabel(mask)))\n",
    "    L[:,1] = np.squeeze(np.transpose(findPerimeterLabel(mask)))\n",
    "    L[:,2] = np.squeeze(np.transpose(findIntensityLabel(data,mask)))\n",
    "    L[:,3] = np.squeeze(np.transpose(findIntensityLabel2(data,mask)))\n",
    "    L[:,4] = np.squeeze(np.transpose(findLabelPrior()))\n",
    "    #L = L + 1\n",
    "    \n",
    "    return L"
   ]
  },
  {
   "cell_type": "code",
   "execution_count": 22,
   "metadata": {},
   "outputs": [],
   "source": [
    "# call labelling functions, define majority vote classifier \n",
    "# return prediction probabilities\n",
    "import sys\n",
    "sys.path.append('../heart_mri/metal')\n",
    "from metal.label_model.baselines import MajorityLabelVoter\n",
    "\n",
    "def findMajorityPred(data,mask):\n",
    "    L = findLFLabelsEg(data,mask)\n",
    "    \n",
    "    mv = MajorityLabelVoter(seed=123)\n",
    "    prob = mv.predict_proba(L)\n",
    "    \n",
    "    return prob"
   ]
  },
  {
   "cell_type": "code",
   "execution_count": 23,
   "metadata": {},
   "outputs": [],
   "source": [
    "# define which frames are picked using prediction probabilities \n",
    "def findClosedFrames(data,mask):\n",
    "    prob = findMajorityPred(data,mask)\n",
    "    \n",
    "    prob = prob[:,0]\n",
    "    closed_frames = [i for i,x in enumerate(prob) if x == 1.0]\n",
    "    \n",
    "    # returning the first 10 closed frames\n",
    "    if len(closed_frames) > 10:\n",
    "        closed_frames = closed_frames[:10]\n",
    "        \n",
    "    return closed_frames"
   ]
  },
  {
   "cell_type": "code",
   "execution_count": 24,
   "metadata": {},
   "outputs": [],
   "source": [
    "def findLeftAtriumIntensity(data,mask):\n",
    "    masked_data = np.multiply(data,mask)\n",
    "    frames = findClosedFrames(data,mask)\n",
    "    \n",
    "    masked_data = masked_data[frames,:,:]\n",
    "    masked_data = np.reshape(masked_data,(len(frames),-1))\n",
    "    \n",
    "    area_intensity = np.mean(masked_data,axis=1)\n",
    "    return area_intensity\n",
    "    "
   ]
  },
  {
   "cell_type": "code",
   "execution_count": 25,
   "metadata": {},
   "outputs": [],
   "source": [
    "def findLeftAtriumIntensityVar(data,mask):\n",
    "    masked_data = np.multiply(data,mask)\n",
    "    frames = findClosedFrames(data,mask)\n",
    "    \n",
    "    masked_data = masked_data[frames,:,:]\n",
    "    masked_data = np.reshape(masked_data,(len(frames),-1))\n",
    "    \n",
    "    area_intensity_var = np.var(masked_data,axis=1)\n",
    "    return area_intensity_var"
   ]
  },
  {
   "cell_type": "code",
   "execution_count": 26,
   "metadata": {},
   "outputs": [
    {
     "name": "stdout",
     "output_type": "stream",
     "text": [
      "(250,)\n",
      "(250,)\n"
     ]
    }
   ],
   "source": [
    "dev_PIDs = labels.ID\n",
    "dev_labels = labels.LABEL \n",
    "\n",
    "print(dev_PIDs.shape)\n",
    "print(dev_labels.shape)"
   ]
  },
  {
   "cell_type": "code",
   "execution_count": 27,
   "metadata": {},
   "outputs": [],
   "source": [
    "MR_indices = [i for i,x in enumerate(dev_labels) if x == 1.0]\n",
    "nonMR_indices = [i for i,x in enumerate(dev_labels) if x == 0.0]\n",
    "\n",
    "MR_PIDs = dev_PIDs[MR_indices[:25]]\n",
    "nonMR_PIDs = dev_PIDs[nonMR_indices[:25]]"
   ]
  },
  {
   "cell_type": "code",
   "execution_count": 28,
   "metadata": {},
   "outputs": [
    {
     "name": "stdout",
     "output_type": "stream",
     "text": [
      "3642274\n",
      "3294835\n",
      "2782922\n",
      "4755232\n",
      "3973512\n",
      "5999936\n",
      "2751831\n",
      "2357964\n",
      "4698284\n",
      "2473769\n",
      "5795137\n",
      "2288001\n",
      "5139473\n",
      "3138102\n",
      "2736555\n",
      "2582951\n",
      "4264839\n",
      "3837322\n",
      "2748855\n",
      "2480854\n",
      "3912681\n",
      "1862574\n",
      "5028350\n",
      "3070856\n",
      "3768159\n",
      "4696782\n",
      "2224539\n",
      "2260153\n",
      "5347895\n",
      "1629308\n",
      "2785839\n",
      "1590041\n",
      "5441523\n",
      "2352684\n",
      "2737660\n",
      "2382060\n",
      "3798342\n",
      "5842364\n",
      "4393066\n",
      "3962069\n",
      "5306634\n",
      "1761094\n",
      "3963033\n",
      "2437861\n",
      "5931059\n",
      "1360459\n",
      "1393273\n",
      "5228762\n",
      "1845554\n",
      "4072135\n"
     ]
    }
   ],
   "source": [
    "# loading data and mask\n",
    "data = {}\n",
    "mask = {} \n",
    "Y = {}\n",
    "for PID in MR_PIDs:\n",
    "    print(PID)\n",
    "    data[PID] = np.load(data_path+'la_4ch/'+str(PID)+'.npy')\n",
    "    mask[PID] = np.load(data_path+'la_4ch_mask/'+str(PID)+'.npy')\n",
    "    Y[PID] = 1    \n",
    "    \n",
    "for PID in nonMR_PIDs:\n",
    "    print(PID)\n",
    "    data[PID] = np.load(data_path+'la_4ch/'+str(PID)+'.npy')\n",
    "    mask[PID] = np.load(data_path+'la_4ch_mask/'+str(PID)+'.npy')\n",
    "    Y[PID] = 0   "
   ]
  },
  {
   "cell_type": "code",
   "execution_count": 29,
   "metadata": {},
   "outputs": [],
   "source": [
    "MR_left_EF = []\n",
    "nonMR_left_EF = [] \n",
    "MR_right_EF = []\n",
    "nonMR_right_EF = [] \n",
    "MR_left_var = []\n",
    "nonMR_left_var = []\n",
    "MR_right_var = []\n",
    "nonMR_right_var = []\n",
    "MR_area_ratio = []\n",
    "nonMR_area_ratio = []\n",
    "MR_ratio_var = []\n",
    "nonMR_ratio_var = []\n",
    "MR_area_perimeter_ratio = []\n",
    "nonMR_area_perimeter_ratio = []\n",
    "MR_area_perimeter_ratio_var = []\n",
    "nonMR_area_perimeter_ratio_var = []\n",
    "\n",
    "MR_atrium_intensity = np.zeros((25,10))\n",
    "nonMR_atrium_intensity = np.zeros((25,10))\n",
    "MR_atrium_intensity_var = np.zeros((25,10))\n",
    "nonMR_atrium_intensity_var = np.zeros((25,10))\n",
    "\n",
    "count = 0\n",
    "for PID in MR_PIDs:\n",
    "    MR_left_EF.append(findLeftEF(mask[PID]))\n",
    "    MR_right_EF.append(findRightEF(mask[PID]))\n",
    "    MR_left_var.append(findLeftAreaVar(mask[PID]))\n",
    "    MR_right_var.append(findRightAreaVar(mask[PID]))\n",
    "    MR_area_ratio.append(findFrameAreaRatio(mask[PID]))\n",
    "    MR_ratio_var.append(findFrameRatioVar(mask[PID]))\n",
    "    MR_area_perimeter_ratio.append(findAreaPerimeterRatio(mask[PID]))\n",
    "    MR_area_perimeter_ratio_var.append(findAreaPerimeterRatioVar(mask[PID]))\n",
    "    \n",
    "    MR_atrium_intensity[count,:] = findLeftAtriumIntensity(data[PID],mask[PID])\n",
    "    MR_atrium_intensity_var[count,:] = findLeftAtriumIntensityVar(data[PID],mask[PID])\n",
    "    count = count+1\n",
    "    \n",
    "count = 0\n",
    "for PID in nonMR_PIDs:\n",
    "    nonMR_left_EF.append(findLeftEF(mask[PID]))\n",
    "    nonMR_right_EF.append(findRightEF(mask[PID]))\n",
    "    nonMR_left_var.append(findLeftAreaVar(mask[PID]))\n",
    "    nonMR_right_var.append(findRightAreaVar(mask[PID]))\n",
    "    nonMR_area_ratio.append(findFrameAreaRatio(mask[PID]))\n",
    "    nonMR_ratio_var.append(findFrameRatioVar(mask[PID]))\n",
    "    nonMR_area_perimeter_ratio.append(findAreaPerimeterRatio(mask[PID]))\n",
    "    nonMR_area_perimeter_ratio_var.append(findAreaPerimeterRatioVar(mask[PID]))\n",
    "    \n",
    "    nonMR_atrium_intensity[count,:] = findLeftAtriumIntensity(data[PID],mask[PID])\n",
    "    nonMR_atrium_intensity_var[count,:] = findLeftAtriumIntensityVar(data[PID],mask[PID])\n",
    "    count = count+1\n",
    "    \n",
    "\n",
    "MR_atrium_intensity = np.reshape(MR_atrium_intensity,(250,))\n",
    "nonMR_atrium_intensity = np.reshape(nonMR_atrium_intensity,(250,))\n",
    "MR_atrium_intensity_var = np.reshape(MR_atrium_intensity_var,(250,))\n",
    "nonMR_atrium_intensity_var = np.reshape(nonMR_atrium_intensity_var,(250,))"
   ]
  },
  {
   "cell_type": "code",
   "execution_count": 30,
   "metadata": {},
   "outputs": [
    {
     "data": {
      "image/png": "[encoded data removed]",
      "text/plain": [
       "<Figure size 432x288 with 1 Axes>"
      ]
     },
     "metadata": {
      "needs_background": "light"
     },
     "output_type": "display_data"
    },
    {
     "data": {
      "image/png": "[encoded data removed]",
      "text/plain": [
       "<Figure size 432x288 with 1 Axes>"
      ]
     },
     "metadata": {
      "needs_background": "light"
     },
     "output_type": "display_data"
    },
    {
     "data": {
      "image/png": "[encoded data removed]",
      "text/plain": [
       "<Figure size 432x288 with 1 Axes>"
      ]
     },
     "metadata": {
      "needs_background": "light"
     },
     "output_type": "display_data"
    },
    {
     "data": {
      "image/png": "[encoded data removed]",
      "text/plain": [
       "<Figure size 432x288 with 1 Axes>"
      ]
     },
     "metadata": {
      "needs_background": "light"
     },
     "output_type": "display_data"
    },
    {
     "data": {
      "image/png": "[encoded data removed]",
      "text/plain": [
       "<Figure size 432x288 with 1 Axes>"
      ]
     },
     "metadata": {
      "needs_background": "light"
     },
     "output_type": "display_data"
    },
    {
     "data": {
      "image/png": "[encoded data removed]",
      "text/plain": [
       "<Figure size 432x288 with 1 Axes>"
      ]
     },
     "metadata": {
      "needs_background": "light"
     },
     "output_type": "display_data"
    },
    {
     "data": {
      "image/png": "[encoded data removed]",
      "text/plain": [
       "<Figure size 432x288 with 1 Axes>"
      ]
     },
     "metadata": {
      "needs_background": "light"
     },
     "output_type": "display_data"
    },
    {
     "data": {
      "image/png": "[encoded data removed]",
      "text/plain": [
       "<Figure size 432x288 with 1 Axes>"
      ]
     },
     "metadata": {
      "needs_background": "light"
     },
     "output_type": "display_data"
    },
    {
     "data": {
      "image/png": "[encoded data removed]",
      "text/plain": [
       "<Figure size 432x288 with 1 Axes>"
      ]
     },
     "metadata": {
      "needs_background": "light"
     },
     "output_type": "display_data"
    },
    {
     "data": {
      "image/png": "[encoded data removed]",
      "text/plain": [
       "<Figure size 432x288 with 1 Axes>"
      ]
     },
     "metadata": {
      "needs_background": "light"
     },
     "output_type": "display_data"
    },
    {
     "data": {
      "image/png": "[encoded data removed]",
      "text/plain": [
       "<Figure size 432x288 with 1 Axes>"
      ]
     },
     "metadata": {
      "needs_background": "light"
     },
     "output_type": "display_data"
    },
    {
     "data": {
      "image/png": "[encoded data removed]",
      "text/plain": [
       "<Figure size 432x288 with 1 Axes>"
      ]
     },
     "metadata": {
      "needs_background": "light"
     },
     "output_type": "display_data"
    }
   ],
   "source": [
    "plt.figure()\n",
    "plt.hist(MR_left_EF, bins=10, alpha = 0.5, label='MR')\n",
    "plt.hist(nonMR_left_EF, bins=10, alpha = 0.5, label='non MR')\n",
    "plt.legend()\n",
    "plt.title('Left atrium ejection fraction')\n",
    "plt.show()\n",
    "\n",
    "\n",
    "plt.figure()\n",
    "plt.hist(MR_right_EF, bins=10, alpha = 0.5, label='MR')\n",
    "plt.hist(nonMR_right_EF, bins=10, alpha = 0.5, label='non MR')\n",
    "plt.legend()\n",
    "plt.title('Right atrium ejection fraction')\n",
    "plt.show()\n",
    "\n",
    "plt.figure()\n",
    "plt.hist(np.divide(MR_left_EF, MR_right_EF), bins=10, alpha = 0.5, label='MR')\n",
    "plt.hist(np.divide(nonMR_left_EF, nonMR_right_EF), bins=10, alpha = 0.5, label='non MR')\n",
    "plt.legend()\n",
    "plt.title('Ratio of EF')\n",
    "plt.show()\n",
    "\n",
    "plt.figure()\n",
    "plt.hist(MR_left_var, bins=10, alpha = 0.5, label='MR')\n",
    "plt.hist(nonMR_left_var, bins=10, alpha = 0.5, label='non MR')\n",
    "plt.legend()\n",
    "plt.title('Left atrium variance')\n",
    "plt.show()\n",
    "\n",
    "plt.figure()\n",
    "plt.hist(MR_right_var, bins=10, alpha = 0.5, label='MR')\n",
    "plt.hist(nonMR_right_var, bins=10, alpha = 0.5, label='non MR')\n",
    "plt.legend()\n",
    "plt.title('Right atrium variance')\n",
    "plt.show()\n",
    "\n",
    "\n",
    "plt.figure()\n",
    "plt.hist(np.divide(MR_left_var, MR_right_var), bins=10, alpha = 0.5, label='MR')\n",
    "plt.hist(np.divide(nonMR_left_var, nonMR_right_var), bins=10, alpha = 0.5, label='non MR')\n",
    "plt.legend()\n",
    "plt.title('Ratio of variance')\n",
    "plt.show()\n",
    "\n",
    "\n",
    "plt.figure()\n",
    "plt.hist(MR_area_ratio, bins=10, alpha = 0.5, label='MR')\n",
    "plt.hist(nonMR_area_ratio, bins=10, alpha = 0.5, label='non MR')\n",
    "plt.legend()\n",
    "plt.title('Frame level area ratio')\n",
    "plt.show()\n",
    "\n",
    "\n",
    "plt.figure()\n",
    "plt.hist(MR_ratio_var, bins=10, alpha = 0.5, label='MR')\n",
    "plt.hist(nonMR_ratio_var, bins=10, alpha = 0.5, label='non MR')\n",
    "plt.legend()\n",
    "plt.title('Frame level area variance')\n",
    "plt.show()\n",
    "\n",
    "plt.figure()\n",
    "plt.hist(MR_area_perimeter_ratio, bins=10, alpha = 0.5, label='MR')\n",
    "plt.hist(nonMR_area_perimeter_ratio, bins=10, alpha = 0.5, label='non MR')\n",
    "plt.legend()\n",
    "plt.title('Area-perimeter ratio')\n",
    "plt.show()\n",
    "\n",
    "plt.figure()\n",
    "plt.hist(MR_area_perimeter_ratio_var, bins=10, alpha = 0.5, label='MR')\n",
    "plt.hist(nonMR_area_perimeter_ratio_var, bins=10, alpha = 0.5, label='non MR')\n",
    "plt.legend()\n",
    "plt.title('Area-perimeter ratio variance')\n",
    "plt.show()\n",
    "\n",
    "\n",
    "plt.figure()\n",
    "plt.hist(MR_atrium_intensity, bins=25, alpha = 0.5, label='MR')\n",
    "plt.hist(nonMR_atrium_intensity, bins=25, alpha = 0.5, label='non MR')\n",
    "plt.legend()\n",
    "plt.title('Atrium intensity')\n",
    "plt.show()\n",
    "\n",
    "plt.figure()\n",
    "plt.hist(MR_atrium_intensity_var, bins=25, alpha = 0.5, label='MR')\n",
    "plt.hist(nonMR_atrium_intensity_var, bins=25, alpha = 0.5, label='non MR')\n",
    "plt.legend()\n",
    "plt.title('Atrium intensity variance')\n",
    "plt.show()"
   ]
  },
  {
   "cell_type": "code",
   "execution_count": null,
   "metadata": {},
   "outputs": [],
   "source": []
  }
 ],
 "metadata": {
  "kernelspec": {
   "display_name": "Python 3",
   "language": "python",
   "name": "python3"
  },
  "language_info": {
   "codemirror_mode": {
    "name": "ipython",
    "version": 3
   },
   "file_extension": ".py",
   "mimetype": "text/x-python",
   "name": "python",
   "nbconvert_exporter": "python",
   "pygments_lexer": "ipython3",
   "version": "3.6.7"
  }
 },
 "nbformat": 4,
 "nbformat_minor": 2
}
